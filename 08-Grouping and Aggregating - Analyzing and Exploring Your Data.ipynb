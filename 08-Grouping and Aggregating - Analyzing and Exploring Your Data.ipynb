{
 "cells": [
  {
   "cell_type": "markdown",
   "metadata": {},
   "source": [
    "# 08 - Grouping and Aggregating - Analyzing and Exploring Your Data\n",
    "\n",
    "https://youtu.be/txMdrV1Ut64?si=SqRDKz2NN3VBccXA\n",
    "\n",
    "Notes by [Innovinitylabs](https://github.com/innovinitylabs)"
   ]
  },
  {
   "cell_type": "code",
   "execution_count": null,
   "metadata": {},
   "outputs": [],
   "source": [
    "import pandas as pd\n",
    "\n",
    "#Setup for learning data\n",
    "\n",
    "people = {\n",
    "    \"first\": [\"Corey\", 'Jane', 'John', 'Ratan', 'Arjun', 'Pushpa', 'Rajinikanth'], \n",
    "    \"last\": [\"Schafer\", 'Doe', 'Doe', 'Tata', 'Reddy', 'No Inti Peru', 'Rajinikanth'], \n",
    "    \"email\": [\"CoreyMSchafer@gmail.com\", 'JaneDoe@email.com', 'JohnDoe@email.com', 'Ratan@tata.com', 'Aready@email.com', 'thaggedhele@puspha.com', 'gmail@rajinikanth.com' ]\n",
    "}\n",
    "dft = pd.DataFrame(people)"
   ]
  },
  {
   "cell_type": "markdown",
   "metadata": {},
   "source": [
    "---"
   ]
  },
  {
   "cell_type": "markdown",
   "metadata": {},
   "source": [
    "### Setup for Real world data.\n",
    "###### uncomment when in need to avoid conflicting code autocomplete suggestions"
   ]
  },
  {
   "cell_type": "code",
   "execution_count": null,
   "metadata": {},
   "outputs": [],
   "source": [
    "# df = pd.read_csv('data/survey_results_public.csv', index_col='Respondent' )\n",
    "# schema_df = pd.read_csv('data/survey_results_schema.csv', index_col='Column')\n",
    "# pd.set_option('display.max_columns', 85)"
   ]
  },
  {
   "cell_type": "code",
   "execution_count": null,
   "metadata": {},
   "outputs": [],
   "source": [
    "# pd.set_option('display.max_rows', 85)"
   ]
  },
  {
   "cell_type": "markdown",
   "metadata": {},
   "source": [
    "---\n",
    "---\n",
    "---"
   ]
  }
 ],
 "metadata": {
  "language_info": {
   "name": "python"
  },
  "orig_nbformat": 4
 },
 "nbformat": 4,
 "nbformat_minor": 2
}
